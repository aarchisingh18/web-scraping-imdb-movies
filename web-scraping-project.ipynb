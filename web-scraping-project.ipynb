{
 "cells": [
  {
   "cell_type": "markdown",
   "metadata": {},
   "source": [
    "# Scraping Top Movies and TV shows on IMDb using Python\n",
    "\n",
    "![banner-image](https://i.imgur.com/MCY7PHW.png)\n",
    "\n",
    "IMDb is an online database of information related to films, television series, podcasts, home videos, video games, and streaming content online - including cast, production crew and personal biographies, plot summaries, trivia, ratings, and fan and critical reviews. \n",
    "\n",
    "The Movie page https://www.imdb.com/search/title/?count=100&groups=top_1000&sort=user_rating provides a list of popular movies on IMDb, In this project we'll retrive information from this page using web scraping.\n",
    "\n",
    "The Tv Show page https://www.imdb.com/chart/toptv/?ref_=nv_mp_tv250 provides a list of popular tv shows on IMDb.\n",
    "\n",
    "#### What is Web Scraping?\n",
    "\n",
    "Web scraping is a process of accessing web pages, extracting data and storing the data in a structured format where it can be used for further analysis.\n",
    "\n",
    "we'll use Python libraries `requests` and `BeautifulSoup` to scrape data from this page.\n",
    "\n",
    "Here's the Outline of the steps we'll follow:\n",
    "\n",
    " 1. Download the webpage using `requests`\n",
    " 2. Parse the HTML source code using BeautifulSoup.\n",
    " 3. Extract movie names, release years and user score from the page.\n",
    " 4. Compile extracted information into python lists and dictionaries.\n",
    " 5. Save the extracted information to a CSV file.\n",
    " \n",
    "By the end of the project, we'll create a CSV file in the following format:\n",
    "\n",
    "       Title  Release year  Audience rating  Genre  Runtime\n",
    "       \n",
    "        The Shawshank Redemption, 1994, 9.3, Drama, 142 min\n",
    "        The Godfather, 1972, 9.2, Crime, Drama, 175 min\n",
    "        The Dark Knight, 2008, 9, Action, Crime, Drama, 152 min\n",
    "        The Godfather Part II, 1974, 9, Crime, Drama, 202 min\n",
    "        ....\n"
   ]
  },
  {
   "cell_type": "markdown",
   "metadata": {},
   "source": [
    "### How to Run the Code\n",
    "\n",
    "You can execute the code using the \"Run\" button at the top of this page and selecting \"Run on Binder\". You can make changes and save your own version of the notebook to [Jovian](https://www.jovian.ai) by executing the following cells:"
   ]
  },
  {
   "cell_type": "code",
   "execution_count": 25,
   "metadata": {},
   "outputs": [],
   "source": [
    "!pip install jovian --upgrade --quiet"
   ]
  },
  {
   "cell_type": "markdown",
   "metadata": {},
   "source": [
    "## Download the webpage using `requests`\n",
    "\n",
    " We'll use the `requests` library to download the web page.\n",
    " \n",
    " The library can be installed using `pip`."
   ]
  },
  {
   "cell_type": "code",
   "execution_count": 26,
   "metadata": {},
   "outputs": [],
   "source": [
    "!pip install requests --upgrade --quiet"
   ]
  },
  {
   "cell_type": "code",
   "execution_count": 27,
   "metadata": {},
   "outputs": [],
   "source": [
    "import requests"
   ]
  },
  {
   "cell_type": "markdown",
   "metadata": {},
   "source": [
    "The library is now installed and imported.\n",
    "\n",
    "To download a page, we can use the `get` function from requests."
   ]
  },
  {
   "cell_type": "code",
   "execution_count": 28,
   "metadata": {},
   "outputs": [],
   "source": [
    "movies_url = 'https://www.imdb.com/search/title/?count=100&groups=top_1000&sort=user_rating'\n",
    "response = requests.get(movies_url, headers = {'User-Agent': 'Mozilla/5.0 (Windows NT 10.0; Win64; x64) AppleWebKit/537.36 (KHTML, like Gecko) Chrome/110.0.0.0 Safari/537.36'})"
   ]
  },
  {
   "cell_type": "markdown",
   "metadata": {},
   "source": [
    "`requests.get` returns a response object containing the data from the web page and some other information.\n",
    "\n",
    "The `status_code` property can be used to check if the requests was successful. A successful response will have an [HTTP status code](https://developer.mozilla.org/en-US/docs/Web/HTTP/Status) between 200 and 299."
   ]
  },
  {
   "cell_type": "code",
   "execution_count": 29,
   "metadata": {},
   "outputs": [
    {
     "data": {
      "text/plain": [
       "200"
      ]
     },
     "execution_count": 29,
     "metadata": {},
     "output_type": "execute_result"
    }
   ],
   "source": [
    "response.status_code"
   ]
  },
  {
   "cell_type": "markdown",
   "metadata": {},
   "source": [
    "The request was successful, We can get contents of the page using `response.text`."
   ]
  },
  {
   "cell_type": "code",
   "execution_count": 30,
   "metadata": {},
   "outputs": [],
   "source": [
    "page_contents = response.text"
   ]
  },
  {
   "cell_type": "markdown",
   "metadata": {},
   "source": [
    "Let's check the no. of characters of the page."
   ]
  },
  {
   "cell_type": "code",
   "execution_count": 31,
   "metadata": {},
   "outputs": [
    {
     "data": {
      "text/plain": [
       "789397"
      ]
     },
     "execution_count": 31,
     "metadata": {},
     "output_type": "execute_result"
    }
   ],
   "source": [
    "len(response.text)"
   ]
  },
  {
   "cell_type": "markdown",
   "metadata": {},
   "source": [
    "The page contains over 240,000 characters. Here the first 1000 characters of the page."
   ]
  },
  {
   "cell_type": "code",
   "execution_count": 32,
   "metadata": {},
   "outputs": [
    {
     "data": {
      "text/plain": [
       "'\\n\\n<!DOCTYPE html>\\n<html\\n    xmlns:og=\"http://ogp.me/ns#\"\\n    xmlns:fb=\"http://www.facebook.com/2008/fbml\">\\n    <head>\\n        \\n<script type=\\'text/javascript\\'>var ue_t0=ue_t0||+new Date();</script>\\n<script type=\\'text/javascript\\'>\\nwindow.ue_ihb = (window.ue_ihb || window.ueinit || 0) + 1;\\nif (window.ue_ihb === 1) {\\n\\nvar ue_csm = window,\\n    ue_hob = +new Date();\\n(function(d){var e=d.ue=d.ue||{},f=Date.now||function(){return+new Date};e.d=function(b){return f()-(b?0:d.ue_t0)};e.stub=function(b,a){if(!b[a]){var c=[];b[a]=function(){c.push([c.slice.call(arguments),e.d(),d.ue_id])};b[a].replay=function(b){for(var a;a=c.shift();)b(a[0],a[1],a[2])};b[a].isStub=1}};e.exec=function(b,a){return function(){try{return b.apply(this,arguments)}catch(c){ueLogError(c,{attribution:a||\"undefined\",logLevel:\"WARN\"})}}}})(ue_csm);\\n\\n\\n    var ue_err_chan = \\'jserr\\';\\n(function(d,e){function h(f,b){if(!(a.ec>a.mxe)&&f){a.ter.push(f);b=b||{};var c=f.logLevel||b.logLevel;c&&c!==k&&c!==m&&c!==n&&c!==p||a.ec++;c&&c!'"
      ]
     },
     "execution_count": 32,
     "metadata": {},
     "output_type": "execute_result"
    }
   ],
   "source": [
    "page_contents[:1000]"
   ]
  },
  {
   "cell_type": "markdown",
   "metadata": {},
   "source": [
    "What we're looking at above is the [HTML source code](https://en.wikipedia.org/wiki/HTML) of the web page.\n",
    "\n",
    "We can also save it to a file and view the page locally within jupyter using \"file > open\"."
   ]
  },
  {
   "cell_type": "code",
   "execution_count": 33,
   "metadata": {},
   "outputs": [],
   "source": [
    "with open('webpage.html', 'w') as f:\n",
    "    f.write(page_contents)"
   ]
  },
  {
   "cell_type": "markdown",
   "metadata": {},
   "source": [
    "In this section, we used the requests library to download a web page as HTML."
   ]
  },
  {
   "cell_type": "markdown",
   "metadata": {},
   "source": [
    "## Parse the HTML source code using `BeautifulSoup`\n",
    "\n",
    "To extract information from the HTML source code of a webpage programmatically, we can use the Beautiful Soup library. Let's install the library and import the BeautifulSoup class from the bs4 module."
   ]
  },
  {
   "cell_type": "code",
   "execution_count": 34,
   "metadata": {},
   "outputs": [],
   "source": [
    "# Install the library\n",
    "!pip install beautifulsoup4 --upgrade --quiet"
   ]
  },
  {
   "cell_type": "code",
   "execution_count": 35,
   "metadata": {},
   "outputs": [],
   "source": [
    "# Import the library\n",
    "from bs4 import BeautifulSoup"
   ]
  },
  {
   "cell_type": "code",
   "execution_count": 36,
   "metadata": {},
   "outputs": [],
   "source": [
    "doc = BeautifulSoup(page_contents, 'html.parser')"
   ]
  },
  {
   "cell_type": "markdown",
   "metadata": {},
   "source": [
    "Before we parse a page and find the top movies, let's define a helper function to get the web page for any movie."
   ]
  },
  {
   "cell_type": "code",
   "execution_count": 37,
   "metadata": {},
   "outputs": [],
   "source": [
    "def get_page_contents(movies_url):\n",
    "    response = requests.get(movies_url, headers={\"Accept-Language\": \"en-US\"})\n",
    "    return BeautifulSoup(response.text, \"html.parser\")\n",
    "\n",
    "doc = get_page_contents(movies_url)"
   ]
  },
  {
   "cell_type": "code",
   "execution_count": 38,
   "metadata": {},
   "outputs": [
    {
     "data": {
      "text/plain": [
       "bs4.BeautifulSoup"
      ]
     },
     "execution_count": 38,
     "metadata": {},
     "output_type": "execute_result"
    }
   ],
   "source": [
    "type(doc)"
   ]
  },
  {
   "cell_type": "code",
   "execution_count": 39,
   "metadata": {},
   "outputs": [
    {
     "data": {
      "text/plain": [
       "<title>IMDb \"Top 1000\"\n",
       "(Sorted by IMDb Rating Descending) - IMDb</title>"
      ]
     },
     "execution_count": 39,
     "metadata": {},
     "output_type": "execute_result"
    }
   ],
   "source": [
    "doc.find('title')"
   ]
  },
  {
   "cell_type": "markdown",
   "metadata": {},
   "source": [
    "Now we get the title of the page, by using `find` method.\n",
    "\n",
    " ![banner-image](https://i.imgur.com/9p8AJ4z.png)"
   ]
  },
  {
   "cell_type": "markdown",
   "metadata": {},
   "source": [
    "Upon inspecting the box containing the information for a movie, The 'a' is referred to as the tag for the HTML line. In some cases, there is a tag and a class associated with an HTML line. I will find an h3 tag with class attribute set to \"lister-item-header\"."
   ]
  },
  {
   "cell_type": "code",
   "execution_count": 40,
   "metadata": {},
   "outputs": [],
   "source": [
    "movies = doc.find_all('h3', {'class': 'lister-item-header'})"
   ]
  },
  {
   "cell_type": "code",
   "execution_count": 41,
   "metadata": {},
   "outputs": [
    {
     "data": {
      "text/plain": [
       "100"
      ]
     },
     "execution_count": 41,
     "metadata": {},
     "output_type": "execute_result"
    }
   ],
   "source": [
    "len(movies)"
   ]
  },
  {
   "cell_type": "markdown",
   "metadata": {},
   "source": [
    "There are 100 movies listed on the page. I have found the enclosing tag for each movie.\n",
    "Now I am going to find title of the movies by 'a' tag, because h3 has 'a' tag inside it."
   ]
  },
  {
   "cell_type": "code",
   "execution_count": 42,
   "metadata": {},
   "outputs": [
    {
     "data": {
      "text/plain": [
       "['The Shawshank Redemption',\n",
       " 'The Godfather',\n",
       " 'Spider-Man: Across the Spider-Verse',\n",
       " 'The Dark Knight',\n",
       " \"Schindler's List\",\n",
       " '12 Angry Men',\n",
       " 'The Lord of the Rings: The Return of the King',\n",
       " 'The Godfather Part II',\n",
       " 'Pulp Fiction',\n",
       " 'Inception']"
      ]
     },
     "execution_count": 42,
     "metadata": {},
     "output_type": "execute_result"
    }
   ],
   "source": [
    "title =[] \n",
    "for movie in movies:\n",
    "    title.append(movie.find('a').text)\n",
    "title[:10]"
   ]
  },
  {
   "cell_type": "markdown",
   "metadata": {},
   "source": [
    "Now We got 100 movies title by using loop. "
   ]
  },
  {
   "cell_type": "markdown",
   "metadata": {},
   "source": [
    "## Extract `movie names`, `release years` , `Audience score` , `Genre` and `Runtime`from the page"
   ]
  },
  {
   "cell_type": "markdown",
   "metadata": {},
   "source": [
    "Now I create a list of all distinct movies and their corresponding HTML. The find_all method creates a list where each entry contains the HTML that's captured within the ‘div’ tag with the class ‘lister-item-content’."
   ]
  },
  {
   "cell_type": "code",
   "execution_count": 43,
   "metadata": {},
   "outputs": [],
   "source": [
    "movies = doc.find_all('div', {'class':'lister-item-content'})"
   ]
  },
  {
   "cell_type": "markdown",
   "metadata": {},
   "source": [
    "Now I want to extract each data element, i will loop through all movies, find all the HTML lines within the specified tag and class, and extract data element."
   ]
  },
  {
   "cell_type": "code",
   "execution_count": 44,
   "metadata": {},
   "outputs": [
    {
     "data": {
      "text/plain": [
       "['(1994)',\n",
       " '(1972)',\n",
       " '(2023)',\n",
       " '(2008)',\n",
       " '(1993)',\n",
       " '(1957)',\n",
       " '(2003)',\n",
       " '(1974)',\n",
       " '(1994)',\n",
       " '(2010)']"
      ]
     },
     "execution_count": 44,
     "metadata": {},
     "output_type": "execute_result"
    }
   ],
   "source": [
    "release_year = [movie.find('span', {'class':'lister-item-year text-muted unbold'}).text for movie in movies]\n",
    "release_year[:10]"
   ]
  },
  {
   "cell_type": "code",
   "execution_count": 45,
   "metadata": {},
   "outputs": [
    {
     "data": {
      "text/plain": [
       "['9.3', '9.2', '9.0', '9.0', '9.0', '9.0', '9.0', '9.0', '8.9', '8.8']"
      ]
     },
     "execution_count": 45,
     "metadata": {},
     "output_type": "execute_result"
    }
   ],
   "source": [
    "audience_rating = [movie.find('div', {'class':'inline-block ratings-imdb-rating'}).text.strip() for movie in movies]\n",
    "audience_rating[:10]"
   ]
  },
  {
   "cell_type": "code",
   "execution_count": 46,
   "metadata": {},
   "outputs": [
    {
     "data": {
      "text/plain": [
       "['Drama',\n",
       " 'Crime, Drama',\n",
       " 'Animation, Action, Adventure',\n",
       " 'Action, Crime, Drama',\n",
       " 'Biography, Drama, History',\n",
       " 'Crime, Drama',\n",
       " 'Action, Adventure, Drama',\n",
       " 'Crime, Drama',\n",
       " 'Crime, Drama',\n",
       " 'Action, Adventure, Sci-Fi']"
      ]
     },
     "execution_count": 46,
     "metadata": {},
     "output_type": "execute_result"
    }
   ],
   "source": [
    "genre = [movie.find('span', {'class':'genre'}).text.strip() for movie in movies]\n",
    "genre[:10]"
   ]
  },
  {
   "cell_type": "code",
   "execution_count": 47,
   "metadata": {
    "scrolled": true
   },
   "outputs": [
    {
     "data": {
      "text/plain": [
       "['142 min',\n",
       " '175 min',\n",
       " '140 min',\n",
       " '152 min',\n",
       " '195 min',\n",
       " '96 min',\n",
       " '201 min',\n",
       " '202 min',\n",
       " '154 min',\n",
       " '148 min']"
      ]
     },
     "execution_count": 47,
     "metadata": {},
     "output_type": "execute_result"
    }
   ],
   "source": [
    "runtime = [movie.find('span', {'class':'runtime'}).text for movie in movies]\n",
    "runtime[:10]"
   ]
  },
  {
   "cell_type": "markdown",
   "metadata": {},
   "source": [
    "Now I have extracted all the information from this page."
   ]
  },
  {
   "cell_type": "markdown",
   "metadata": {},
   "source": [
    "## Compile extracted information into python lists and dictionaries"
   ]
  },
  {
   "cell_type": "markdown",
   "metadata": {},
   "source": [
    "Now I will stored all extracted data information in the list. "
   ]
  },
  {
   "cell_type": "code",
   "execution_count": 48,
   "metadata": {},
   "outputs": [],
   "source": [
    "title = [movie.find('a').text for movie in movies]\n",
    "release_year = [movie.find('span', {'class':'lister-item-year text-muted unbold'}).text for movie in movies]\n",
    "audience_rating = [movie.find('div', {'class':'inline-block ratings-imdb-rating'}).text.strip() for movie in movies]\n",
    "genre = [movie.find('span', {'class':'genre'}).text.strip() for movie in movies]\n",
    "runtime = [movie.find('span', {'class':'runtime'}).text for movie in movies]"
   ]
  },
  {
   "cell_type": "markdown",
   "metadata": {},
   "source": [
    "I will now create a dictionary for extracted all data information."
   ]
  },
  {
   "cell_type": "code",
   "execution_count": 49,
   "metadata": {},
   "outputs": [],
   "source": [
    "movies_dict = {\n",
    "    'Title' : title,\n",
    "    'Release year' : release_year,\n",
    "    'Audience rating' : audience_rating,\n",
    "    'Genre' : genre,\n",
    "    'Runtime' : runtime\n",
    "}"
   ]
  },
  {
   "cell_type": "markdown",
   "metadata": {},
   "source": [
    "## Extract and combine data from the page"
   ]
  },
  {
   "cell_type": "code",
   "execution_count": 50,
   "metadata": {},
   "outputs": [],
   "source": [
    "def get_page_contents(movies_url):\n",
    "    response = requests.get(movies_url, headers={\"Accept-Language\": \"en-US\"})\n",
    "    return BeautifulSoup(response.text, \"html.parser\")\n",
    "\n",
    "doc = get_page_contents(movies_url)\n",
    "\n",
    "def parse_movies(movies):\n",
    "    title = [movie.find('a').text for movie in movies]\n",
    "    release_year = [movie.find('span', {'class':'lister-item-year text-muted unbold'}).text for movie in movies]\n",
    "    audience_rating = [movie.find('div', {'class':'inline-block ratings-imdb-rating'}).text.strip() for movie in movies]\n",
    "    genre = [movie.find('span', {'class':'genre'}).text.strip() for movie in movies]\n",
    "    runtime = [movie.find('span', {'class':'runtime'}).text for movie in movies]\n",
    "    return movies_dict"
   ]
  },
  {
   "cell_type": "markdown",
   "metadata": {},
   "source": [
    "Now I can use the pandas library to view its contents."
   ]
  },
  {
   "cell_type": "code",
   "execution_count": 51,
   "metadata": {},
   "outputs": [],
   "source": [
    "!pip install pandas --quiet"
   ]
  },
  {
   "cell_type": "code",
   "execution_count": 52,
   "metadata": {},
   "outputs": [],
   "source": [
    "import pandas as pd"
   ]
  },
  {
   "cell_type": "code",
   "execution_count": 53,
   "metadata": {},
   "outputs": [],
   "source": [
    "movies_df = pd.DataFrame(movies_dict)"
   ]
  },
  {
   "cell_type": "code",
   "execution_count": 54,
   "metadata": {},
   "outputs": [
    {
     "data": {
      "text/html": [
       "<div>\n",
       "<style scoped>\n",
       "    .dataframe tbody tr th:only-of-type {\n",
       "        vertical-align: middle;\n",
       "    }\n",
       "\n",
       "    .dataframe tbody tr th {\n",
       "        vertical-align: top;\n",
       "    }\n",
       "\n",
       "    .dataframe thead th {\n",
       "        text-align: right;\n",
       "    }\n",
       "</style>\n",
       "<table border=\"1\" class=\"dataframe\">\n",
       "  <thead>\n",
       "    <tr style=\"text-align: right;\">\n",
       "      <th></th>\n",
       "      <th>Title</th>\n",
       "      <th>Release year</th>\n",
       "      <th>Audience rating</th>\n",
       "      <th>Genre</th>\n",
       "      <th>Runtime</th>\n",
       "    </tr>\n",
       "  </thead>\n",
       "  <tbody>\n",
       "    <tr>\n",
       "      <th>0</th>\n",
       "      <td>The Shawshank Redemption</td>\n",
       "      <td>(1994)</td>\n",
       "      <td>9.3</td>\n",
       "      <td>Drama</td>\n",
       "      <td>142 min</td>\n",
       "    </tr>\n",
       "    <tr>\n",
       "      <th>1</th>\n",
       "      <td>The Godfather</td>\n",
       "      <td>(1972)</td>\n",
       "      <td>9.2</td>\n",
       "      <td>Crime, Drama</td>\n",
       "      <td>175 min</td>\n",
       "    </tr>\n",
       "    <tr>\n",
       "      <th>2</th>\n",
       "      <td>Spider-Man: Across the Spider-Verse</td>\n",
       "      <td>(2023)</td>\n",
       "      <td>9.0</td>\n",
       "      <td>Animation, Action, Adventure</td>\n",
       "      <td>140 min</td>\n",
       "    </tr>\n",
       "    <tr>\n",
       "      <th>3</th>\n",
       "      <td>The Dark Knight</td>\n",
       "      <td>(2008)</td>\n",
       "      <td>9.0</td>\n",
       "      <td>Action, Crime, Drama</td>\n",
       "      <td>152 min</td>\n",
       "    </tr>\n",
       "    <tr>\n",
       "      <th>4</th>\n",
       "      <td>Schindler's List</td>\n",
       "      <td>(1993)</td>\n",
       "      <td>9.0</td>\n",
       "      <td>Biography, Drama, History</td>\n",
       "      <td>195 min</td>\n",
       "    </tr>\n",
       "    <tr>\n",
       "      <th>...</th>\n",
       "      <td>...</td>\n",
       "      <td>...</td>\n",
       "      <td>...</td>\n",
       "      <td>...</td>\n",
       "      <td>...</td>\n",
       "    </tr>\n",
       "    <tr>\n",
       "      <th>95</th>\n",
       "      <td>Requiem for a Dream</td>\n",
       "      <td>(2000)</td>\n",
       "      <td>8.3</td>\n",
       "      <td>Drama</td>\n",
       "      <td>102 min</td>\n",
       "    </tr>\n",
       "    <tr>\n",
       "      <th>96</th>\n",
       "      <td>Full Metal Jacket</td>\n",
       "      <td>(1987)</td>\n",
       "      <td>8.3</td>\n",
       "      <td>Drama, War</td>\n",
       "      <td>116 min</td>\n",
       "    </tr>\n",
       "    <tr>\n",
       "      <th>97</th>\n",
       "      <td>Good Will Hunting</td>\n",
       "      <td>(1997)</td>\n",
       "      <td>8.3</td>\n",
       "      <td>Drama, Romance</td>\n",
       "      <td>126 min</td>\n",
       "    </tr>\n",
       "    <tr>\n",
       "      <th>98</th>\n",
       "      <td>American Beauty</td>\n",
       "      <td>(1999)</td>\n",
       "      <td>8.3</td>\n",
       "      <td>Drama</td>\n",
       "      <td>122 min</td>\n",
       "    </tr>\n",
       "    <tr>\n",
       "      <th>99</th>\n",
       "      <td>Scarface</td>\n",
       "      <td>(1983)</td>\n",
       "      <td>8.3</td>\n",
       "      <td>Crime, Drama</td>\n",
       "      <td>170 min</td>\n",
       "    </tr>\n",
       "  </tbody>\n",
       "</table>\n",
       "<p>100 rows × 5 columns</p>\n",
       "</div>"
      ],
      "text/plain": [
       "                                  Title Release year Audience rating  \\\n",
       "0              The Shawshank Redemption       (1994)             9.3   \n",
       "1                         The Godfather       (1972)             9.2   \n",
       "2   Spider-Man: Across the Spider-Verse       (2023)             9.0   \n",
       "3                       The Dark Knight       (2008)             9.0   \n",
       "4                      Schindler's List       (1993)             9.0   \n",
       "..                                  ...          ...             ...   \n",
       "95                  Requiem for a Dream       (2000)             8.3   \n",
       "96                    Full Metal Jacket       (1987)             8.3   \n",
       "97                    Good Will Hunting       (1997)             8.3   \n",
       "98                      American Beauty       (1999)             8.3   \n",
       "99                             Scarface       (1983)             8.3   \n",
       "\n",
       "                           Genre  Runtime  \n",
       "0                          Drama  142 min  \n",
       "1                   Crime, Drama  175 min  \n",
       "2   Animation, Action, Adventure  140 min  \n",
       "3           Action, Crime, Drama  152 min  \n",
       "4      Biography, Drama, History  195 min  \n",
       "..                           ...      ...  \n",
       "95                         Drama  102 min  \n",
       "96                    Drama, War  116 min  \n",
       "97                Drama, Romance  126 min  \n",
       "98                         Drama  122 min  \n",
       "99                  Crime, Drama  170 min  \n",
       "\n",
       "[100 rows x 5 columns]"
      ]
     },
     "execution_count": 54,
     "metadata": {},
     "output_type": "execute_result"
    }
   ],
   "source": [
    "movies_df"
   ]
  },
  {
   "cell_type": "markdown",
   "metadata": {},
   "source": [
    "I can see total extracted data information of this page."
   ]
  },
  {
   "cell_type": "markdown",
   "metadata": {},
   "source": [
    "## Save the extracted information to a CSV file"
   ]
  },
  {
   "cell_type": "markdown",
   "metadata": {},
   "source": [
    "I can create a csv file from the extracted data information that was created in the above step."
   ]
  },
  {
   "cell_type": "code",
   "execution_count": 55,
   "metadata": {},
   "outputs": [],
   "source": [
    "movies_df.to_csv('movies.csv', index = None)"
   ]
  },
  {
   "cell_type": "markdown",
   "metadata": {},
   "source": [
    "# Getting information out of a Top tv show"
   ]
  },
  {
   "cell_type": "markdown",
   "metadata": {},
   "source": [
    " ## Download the webpage using `requests`\n",
    "\n",
    " We'll use the `requests` library to download the web page.\n",
    " \n",
    " To download a page, we can use the get function from requests."
   ]
  },
  {
   "cell_type": "code",
   "execution_count": 56,
   "metadata": {},
   "outputs": [],
   "source": [
    "tv_url = 'https://www.imdb.com/chart/toptv/?ref_=nv_mp_tv250'"
   ]
  },
  {
   "cell_type": "code",
   "execution_count": 57,
   "metadata": {},
   "outputs": [],
   "source": [
    "response = requests.get(tv_url, headers = {'User-Agent': 'Mozilla/5.0 (Windows NT 10.0; Win64; x64) AppleWebKit/537.36 (KHTML, like Gecko) Chrome/111.0.0.0 Safari/537.36'})"
   ]
  },
  {
   "cell_type": "markdown",
   "metadata": {},
   "source": [
    "The status_code property can be used to check if the requests was successful. A successful response will have an HTTP status code between 200 and 299."
   ]
  },
  {
   "cell_type": "code",
   "execution_count": 58,
   "metadata": {},
   "outputs": [
    {
     "data": {
      "text/plain": [
       "200"
      ]
     },
     "execution_count": 58,
     "metadata": {},
     "output_type": "execute_result"
    }
   ],
   "source": [
    "response.status_code"
   ]
  },
  {
   "cell_type": "markdown",
   "metadata": {},
   "source": [
    "The request was successful, We can get contents of the page using response.text\n",
    "\n",
    "Let's check the no. of characters of the page."
   ]
  },
  {
   "cell_type": "code",
   "execution_count": 59,
   "metadata": {},
   "outputs": [],
   "source": [
    "page_content = response.text"
   ]
  },
  {
   "cell_type": "code",
   "execution_count": 60,
   "metadata": {},
   "outputs": [
    {
     "data": {
      "text/plain": [
       "742940"
      ]
     },
     "execution_count": 60,
     "metadata": {},
     "output_type": "execute_result"
    }
   ],
   "source": [
    "len(response.text)"
   ]
  },
  {
   "cell_type": "markdown",
   "metadata": {},
   "source": [
    "We can also save it to a file and view the page locally within jupyter using \"file > open\""
   ]
  },
  {
   "cell_type": "code",
   "execution_count": 61,
   "metadata": {},
   "outputs": [],
   "source": [
    "with open('webpage2.html', 'w') as f:\n",
    "    f.write(page_content)"
   ]
  },
  {
   "cell_type": "markdown",
   "metadata": {},
   "source": [
    "In this section, we used the requests library to download a web page as HTML."
   ]
  },
  {
   "cell_type": "markdown",
   "metadata": {},
   "source": [
    "## Parse the HTML source code using BeautifulSoup\n",
    "\n",
    "To extract information from the HTML source code of a webpage programmatically, I can use the Beautiful Soup library. I already install the library and import the library in above steps."
   ]
  },
  {
   "cell_type": "code",
   "execution_count": 62,
   "metadata": {},
   "outputs": [],
   "source": [
    "doc2 = BeautifulSoup(response.text, 'html.parser')"
   ]
  },
  {
   "cell_type": "markdown",
   "metadata": {},
   "source": [
    "Before we parse a page and find the top tv shows, let's define a helper function to get the web page for any tv show."
   ]
  },
  {
   "cell_type": "code",
   "execution_count": 63,
   "metadata": {},
   "outputs": [],
   "source": [
    "def get_page_content(tv_url):\n",
    "    response = requests.get(tv_url, headers={\"Accept-Language\": \"en-US\"})\n",
    "    return BeautifulSoup(response.text, \"html.parser\")\n",
    "\n",
    "doc2 = get_page_content(tv_url)"
   ]
  },
  {
   "cell_type": "code",
   "execution_count": 64,
   "metadata": {},
   "outputs": [
    {
     "data": {
      "text/plain": [
       "<title>IMDb Top 250 TV - IMDb</title>"
      ]
     },
     "execution_count": 64,
     "metadata": {},
     "output_type": "execute_result"
    }
   ],
   "source": [
    "doc2.find('title')"
   ]
  },
  {
   "cell_type": "markdown",
   "metadata": {},
   "source": [
    "Now we get the title of the page, by using find method."
   ]
  },
  {
   "cell_type": "markdown",
   "metadata": {},
   "source": [
    "![banner-image](https://i.imgur.com/imTlODP.png)"
   ]
  },
  {
   "cell_type": "markdown",
   "metadata": {},
   "source": [
    "Upon inspecting the box containing the information for a top tv shows, The 'a' is referred to as the tag for the HTML line. In some cases, there is a tag and a class associated with an HTML line. I will find an `td` tag with class attribute set to `titleColumn`."
   ]
  },
  {
   "cell_type": "code",
   "execution_count": 65,
   "metadata": {},
   "outputs": [],
   "source": [
    "tvs = doc2.find_all('td',{'class':'titleColumn'})"
   ]
  },
  {
   "cell_type": "code",
   "execution_count": 66,
   "metadata": {},
   "outputs": [
    {
     "data": {
      "text/plain": [
       "250"
      ]
     },
     "execution_count": 66,
     "metadata": {},
     "output_type": "execute_result"
    }
   ],
   "source": [
    "len(tvs)"
   ]
  },
  {
   "cell_type": "markdown",
   "metadata": {},
   "source": [
    "There are 250 top tv shows listed on the page. I have found the enclosing tag for each tv show. Now I am going to find title of the tv show by 'a' tag, because `td` has 'a' tag inside it."
   ]
  },
  {
   "cell_type": "markdown",
   "metadata": {},
   "source": [
    "## Extract tv shows title and release years from page¶\n",
    "\n",
    "Now I want to extract each data element, i will loop through all movies, find all the HTML lines within the specified tag and class, and extract data element."
   ]
  },
  {
   "cell_type": "code",
   "execution_count": 67,
   "metadata": {},
   "outputs": [
    {
     "data": {
      "text/plain": [
       "['Planet Earth II',\n",
       " 'Breaking Bad',\n",
       " 'Planet Earth',\n",
       " 'Band of Brothers',\n",
       " 'Chernobyl',\n",
       " 'The Wire',\n",
       " 'Avatar: The Last Airbender',\n",
       " 'Blue Planet II',\n",
       " 'The Sopranos',\n",
       " 'Cosmos: A Spacetime Odyssey']"
      ]
     },
     "execution_count": 67,
     "metadata": {},
     "output_type": "execute_result"
    }
   ],
   "source": [
    "title =[] \n",
    "for tv in tvs:\n",
    "    title.append(tv.find('a').text)\n",
    "title[:10]"
   ]
  },
  {
   "cell_type": "markdown",
   "metadata": {},
   "source": [
    "I got 250 rows tv shows title from this page."
   ]
  },
  {
   "cell_type": "code",
   "execution_count": 68,
   "metadata": {},
   "outputs": [
    {
     "data": {
      "text/plain": [
       "['(2016)',\n",
       " '(2008)',\n",
       " '(2006)',\n",
       " '(2001)',\n",
       " '(2019)',\n",
       " '(2002)',\n",
       " '(2005)',\n",
       " '(2017)',\n",
       " '(1999)',\n",
       " '(2014)']"
      ]
     },
     "execution_count": 68,
     "metadata": {},
     "output_type": "execute_result"
    }
   ],
   "source": [
    "release_years = [tv.find('span', {'class':'secondaryInfo'}).text for tv in tvs]\n",
    "release_years[:10]"
   ]
  },
  {
   "cell_type": "code",
   "execution_count": 69,
   "metadata": {},
   "outputs": [
    {
     "data": {
      "text/plain": [
       "['https://www.imdb.com//title/tt5491994/',\n",
       " 'https://www.imdb.com//title/tt0903747/',\n",
       " 'https://www.imdb.com//title/tt0795176/',\n",
       " 'https://www.imdb.com//title/tt0185906/',\n",
       " 'https://www.imdb.com//title/tt7366338/',\n",
       " 'https://www.imdb.com//title/tt0306414/',\n",
       " 'https://www.imdb.com//title/tt0417299/',\n",
       " 'https://www.imdb.com//title/tt6769208/',\n",
       " 'https://www.imdb.com//title/tt0141842/',\n",
       " 'https://www.imdb.com//title/tt2395695/']"
      ]
     },
     "execution_count": 69,
     "metadata": {},
     "output_type": "execute_result"
    }
   ],
   "source": [
    "tv_urls =[]\n",
    "base_url = 'https://www.imdb.com/'\n",
    "for tv in tvs:\n",
    "    tv_urls.append(base_url + tv.find('a')['href'])\n",
    "tv_urls[:10]"
   ]
  },
  {
   "cell_type": "markdown",
   "metadata": {},
   "source": [
    "Now I have extracted some information from this page."
   ]
  },
  {
   "cell_type": "markdown",
   "metadata": {},
   "source": [
    "## Compile extracted information into python lists and dictionaries\n",
    "\n",
    "Now I will stored all extracted data information in the list."
   ]
  },
  {
   "cell_type": "code",
   "execution_count": 70,
   "metadata": {},
   "outputs": [],
   "source": [
    "titles = [tv.find('a').text for tv in tvs]\n",
    "release_years = [tv.find('span', {'class':'secondaryInfo'}).text for tv in tvs]\n",
    "tv_urls = [tv.find('a')['href'] for tv in tvs]"
   ]
  },
  {
   "cell_type": "markdown",
   "metadata": {},
   "source": [
    "I will now create a dictionary for extracted all data information."
   ]
  },
  {
   "cell_type": "code",
   "execution_count": 71,
   "metadata": {},
   "outputs": [],
   "source": [
    "tv_dict = {\n",
    "    'Title' : titles,\n",
    "    'Release year' : release_years,\n",
    "    'Tv_URL' : tv_urls\n",
    "   }"
   ]
  },
  {
   "cell_type": "markdown",
   "metadata": {},
   "source": [
    "## Extract and combine data from the page"
   ]
  },
  {
   "cell_type": "code",
   "execution_count": 72,
   "metadata": {},
   "outputs": [],
   "source": [
    "def get_page_content(tv_url):\n",
    "    response = requests.get(tv_url, headers={\"Accept-Language\": \"en-US\"})\n",
    "    return BeautifulSoup(response.text, \"html.parser\")\n",
    "doc2 = get_page_content(tv_url)\n",
    "\n",
    "def parse_tv_show(tvs):\n",
    "    titles = [tv.find('a').text for tv in tvs]\n",
    "    release_years = [tv.find('span', {'class':'secondaryInfo'}).text for tv in tvs]\n",
    "    tv_urls = [tv.find('a')['href'] for tv in tvs]\n",
    "    return tv_dict"
   ]
  },
  {
   "cell_type": "markdown",
   "metadata": {},
   "source": [
    "Now I can use the pandas library to view its contents. As above steps panda library is already installed and imported."
   ]
  },
  {
   "cell_type": "code",
   "execution_count": 73,
   "metadata": {},
   "outputs": [],
   "source": [
    "toptvshow_df = pd.DataFrame(tv_dict)"
   ]
  },
  {
   "cell_type": "code",
   "execution_count": 74,
   "metadata": {},
   "outputs": [
    {
     "data": {
      "text/html": [
       "<div>\n",
       "<style scoped>\n",
       "    .dataframe tbody tr th:only-of-type {\n",
       "        vertical-align: middle;\n",
       "    }\n",
       "\n",
       "    .dataframe tbody tr th {\n",
       "        vertical-align: top;\n",
       "    }\n",
       "\n",
       "    .dataframe thead th {\n",
       "        text-align: right;\n",
       "    }\n",
       "</style>\n",
       "<table border=\"1\" class=\"dataframe\">\n",
       "  <thead>\n",
       "    <tr style=\"text-align: right;\">\n",
       "      <th></th>\n",
       "      <th>Title</th>\n",
       "      <th>Release year</th>\n",
       "      <th>Tv_URL</th>\n",
       "    </tr>\n",
       "  </thead>\n",
       "  <tbody>\n",
       "    <tr>\n",
       "      <th>0</th>\n",
       "      <td>Planet Earth II</td>\n",
       "      <td>(2016)</td>\n",
       "      <td>/title/tt5491994/</td>\n",
       "    </tr>\n",
       "    <tr>\n",
       "      <th>1</th>\n",
       "      <td>Breaking Bad</td>\n",
       "      <td>(2008)</td>\n",
       "      <td>/title/tt0903747/</td>\n",
       "    </tr>\n",
       "    <tr>\n",
       "      <th>2</th>\n",
       "      <td>Planet Earth</td>\n",
       "      <td>(2006)</td>\n",
       "      <td>/title/tt0795176/</td>\n",
       "    </tr>\n",
       "    <tr>\n",
       "      <th>3</th>\n",
       "      <td>Band of Brothers</td>\n",
       "      <td>(2001)</td>\n",
       "      <td>/title/tt0185906/</td>\n",
       "    </tr>\n",
       "    <tr>\n",
       "      <th>4</th>\n",
       "      <td>Chernobyl</td>\n",
       "      <td>(2019)</td>\n",
       "      <td>/title/tt7366338/</td>\n",
       "    </tr>\n",
       "    <tr>\n",
       "      <th>...</th>\n",
       "      <td>...</td>\n",
       "      <td>...</td>\n",
       "      <td>...</td>\n",
       "    </tr>\n",
       "    <tr>\n",
       "      <th>245</th>\n",
       "      <td>Alfred Hitchcock Presents</td>\n",
       "      <td>(1955)</td>\n",
       "      <td>/title/tt0047708/</td>\n",
       "    </tr>\n",
       "    <tr>\n",
       "      <th>246</th>\n",
       "      <td>Southland</td>\n",
       "      <td>(2009)</td>\n",
       "      <td>/title/tt1299368/</td>\n",
       "    </tr>\n",
       "    <tr>\n",
       "      <th>247</th>\n",
       "      <td>Foyle's War</td>\n",
       "      <td>(2002)</td>\n",
       "      <td>/title/tt0310455/</td>\n",
       "    </tr>\n",
       "    <tr>\n",
       "      <th>248</th>\n",
       "      <td>Alchemy of Souls</td>\n",
       "      <td>(2022)</td>\n",
       "      <td>/title/tt20859920/</td>\n",
       "    </tr>\n",
       "    <tr>\n",
       "      <th>249</th>\n",
       "      <td>Big Little Lies</td>\n",
       "      <td>(2017)</td>\n",
       "      <td>/title/tt3920596/</td>\n",
       "    </tr>\n",
       "  </tbody>\n",
       "</table>\n",
       "<p>250 rows × 3 columns</p>\n",
       "</div>"
      ],
      "text/plain": [
       "                         Title Release year              Tv_URL\n",
       "0              Planet Earth II       (2016)   /title/tt5491994/\n",
       "1                 Breaking Bad       (2008)   /title/tt0903747/\n",
       "2                 Planet Earth       (2006)   /title/tt0795176/\n",
       "3             Band of Brothers       (2001)   /title/tt0185906/\n",
       "4                    Chernobyl       (2019)   /title/tt7366338/\n",
       "..                         ...          ...                 ...\n",
       "245  Alfred Hitchcock Presents       (1955)   /title/tt0047708/\n",
       "246                  Southland       (2009)   /title/tt1299368/\n",
       "247                Foyle's War       (2002)   /title/tt0310455/\n",
       "248           Alchemy of Souls       (2022)  /title/tt20859920/\n",
       "249            Big Little Lies       (2017)   /title/tt3920596/\n",
       "\n",
       "[250 rows x 3 columns]"
      ]
     },
     "execution_count": 74,
     "metadata": {},
     "output_type": "execute_result"
    }
   ],
   "source": [
    "toptvshow_df"
   ]
  },
  {
   "cell_type": "markdown",
   "metadata": {},
   "source": [
    "I can see some extracted data information of this page."
   ]
  },
  {
   "cell_type": "markdown",
   "metadata": {},
   "source": [
    "## Save the extracted information to a CSV file\n",
    "\n",
    "\n",
    "I can create a csv file from the extracted data information that was created in the above step"
   ]
  },
  {
   "cell_type": "code",
   "execution_count": 75,
   "metadata": {},
   "outputs": [],
   "source": [
    "toptvshow_df.to_csv('tvshow.csv', index = None)"
   ]
  },
  {
   "cell_type": "code",
   "execution_count": 76,
   "metadata": {},
   "outputs": [],
   "source": [
    "import jovian"
   ]
  },
  {
   "cell_type": "code",
   "execution_count": 77,
   "metadata": {},
   "outputs": [
    {
     "data": {
      "application/javascript": [
       "window.require && require([\"base/js/namespace\"],function(Jupyter){Jupyter.notebook.save_checkpoint()})"
      ],
      "text/plain": [
       "<IPython.core.display.Javascript object>"
      ]
     },
     "metadata": {},
     "output_type": "display_data"
    },
    {
     "name": "stdout",
     "output_type": "stream",
     "text": [
      "[jovian] Updating notebook \"aaarchisingh18/web-scraping-project\" on https://jovian.com\u001b[0m\n",
      "[jovian] Committed successfully! https://jovian.com/aaarchisingh18/web-scraping-project\u001b[0m\n"
     ]
    },
    {
     "data": {
      "text/plain": [
       "'https://jovian.com/aaarchisingh18/web-scraping-project'"
      ]
     },
     "execution_count": 77,
     "metadata": {},
     "output_type": "execute_result"
    }
   ],
   "source": [
    "jovian.commit(Project = \"web-scraping-project\")"
   ]
  },
  {
   "cell_type": "markdown",
   "metadata": {},
   "source": [
    "# Summary\n",
    "\n",
    "\n",
    "\n",
    "Let us look at the steps that we took from start to finish :\n",
    "\n",
    " 1. We downloaded the webpage using requests\n",
    "\n",
    " 2. We parsed the HTML source code using BeautifulSoup library and extracted the desired infromation.\n",
    " \n",
    " 3. We extracted detailed information for each movie among the list of Top Rated Movies, such as :\n",
    " \n",
    "   * Movie title\n",
    "   * Release year\n",
    "   * Audience rating\n",
    "   * Genre\n",
    "   * Runtime\n",
    "   * tv url\n",
    "  \n",
    " 4. After that we created a Python Dictionary to save all these details.\n",
    " \n",
    " 5. We converted the python dictionary into Pandas DataFrames.\n",
    " \n",
    " 6. Then we converted it into a CSV file. \n",
    "  "
   ]
  },
  {
   "cell_type": "markdown",
   "metadata": {},
   "source": [
    "## Future work\n",
    "\n",
    "\n",
    "As for future work we can now work forward to explore this data more and more to fetch meaningful information out of it,\n",
    "and further analysis into the data, we can have answers to a lot of questions like -\n",
    "\n",
    "  * Which year do we have the most TV shows?\n",
    "  * Which year gave us the most Top Rated Movies till date?\n",
    "  * Which Director has directed the most top rated movies?\n",
    "  \n",
    "  and the list goes on...\n",
    "\n"
   ]
  },
  {
   "cell_type": "markdown",
   "metadata": {},
   "source": [
    "## References\n",
    "\n",
    "\n",
    " 1. Python offical documentation https://docs.python.org/3/\n",
    " 2. Requests library https://pypi.org/project/requests/\n",
    " 3. Beautiful Soup documentation https://www.crummy.com/software/BeautifulSoup/bs4/doc/\n",
    " 4. Aakash N S, Introduction to Web Scraping https://jovian.com/aakashns/python-web-scraping-and-rest-api \n",
    " 5. Pandas library documentation https://pandas.pydata.org/docs/\n",
    " 6. IMDB Website for movies https://www.imdb.com/search/title/?count=100&groups=top_1000&sort=user_rating\n",
    " 7. IMDB Website for tv show https://www.imdb.com/chart/toptv/?ref_=nv_mp_tv250\n",
    " 8. Web Scraping info https://www.toptal.com/python/web-scraping-with-python\n",
    " 9. Medium page https://medium.com/\n",
    " 10. Working with Jupyter Notebook https://towardsdatascience.com/write-markdown-latex-in-the-jupyter-notebook-10985edb91fd\n"
   ]
  },
  {
   "cell_type": "code",
   "execution_count": 78,
   "metadata": {},
   "outputs": [
    {
     "data": {
      "application/javascript": [
       "window.require && require([\"base/js/namespace\"],function(Jupyter){Jupyter.notebook.save_checkpoint()})"
      ],
      "text/plain": [
       "<IPython.core.display.Javascript object>"
      ]
     },
     "metadata": {},
     "output_type": "display_data"
    },
    {
     "name": "stdout",
     "output_type": "stream",
     "text": [
      "[jovian] Updating notebook \"aaarchisingh18/web-scraping-project\" on https://jovian.com\u001b[0m\n",
      "[jovian] Committed successfully! https://jovian.com/aaarchisingh18/web-scraping-project\u001b[0m\n"
     ]
    },
    {
     "data": {
      "text/plain": [
       "'https://jovian.com/aaarchisingh18/web-scraping-project'"
      ]
     },
     "execution_count": 78,
     "metadata": {},
     "output_type": "execute_result"
    }
   ],
   "source": [
    "jovian.commit(Project = \"web-scraping-project\")"
   ]
  }
 ],
 "metadata": {
  "kernelspec": {
   "display_name": "Python 3 (ipykernel)",
   "language": "python",
   "name": "python3"
  },
  "language_info": {
   "codemirror_mode": {
    "name": "ipython",
    "version": 3
   },
   "file_extension": ".py",
   "mimetype": "text/x-python",
   "name": "python",
   "nbconvert_exporter": "python",
   "pygments_lexer": "ipython3",
   "version": "3.9.7"
  }
 },
 "nbformat": 4,
 "nbformat_minor": 2
}
